{
  "nbformat": 4,
  "nbformat_minor": 0,
  "metadata": {
    "colab": {
      "provenance": [],
      "mount_file_id": "1QyHuHL3hC_EPq3TfEeMMR66PBkkBDV16",
      "authorship_tag": "ABX9TyP1HKFQ12blZLBdAv2/SwnC",
      "include_colab_link": true
    },
    "kernelspec": {
      "name": "python3",
      "display_name": "Python 3"
    },
    "language_info": {
      "name": "python"
    }
  },
  "cells": [
    {
      "cell_type": "markdown",
      "metadata": {
        "id": "view-in-github",
        "colab_type": "text"
      },
      "source": [
        "<a href=\"https://colab.research.google.com/github/sivaharitha-s/movie_recommendation_system/blob/main/Movie_Recommendation_System.ipynb\" target=\"_parent\"><img src=\"https://colab.research.google.com/assets/colab-badge.svg\" alt=\"Open In Colab\"/></a>"
      ]
    },
    {
      "cell_type": "code",
      "source": [
        "import pandas as pd\n",
        "import numpy as np\n",
        "import difflib\n",
        "from sklearn.feature_extraction.text import TfidfVectorizer\n",
        "from sklearn.metrics.pairwise import cosine_similarity\n"
      ],
      "metadata": {
        "id": "RJ74TDofMxzE"
      },
      "execution_count": 1,
      "outputs": []
    },
    {
      "cell_type": "code",
      "source": [
        "'''import difflib\n",
        "\n",
        "words = [\"apple\", \"appl\", \"appeal\"]\n",
        "close_matches = difflib.get_close_matches(\"apple\", words)\n",
        "print(close_matches)'''\n",
        "\n",
        "#Measures cosine similarity between vectors. Often used to find how similar two documents are.\n",
        "\n",
        "'''from sklearn.metrics.pairwise import cosine_similarity\n",
        "\n",
        "A = [[1, 0, 1]]\n",
        "B = [[0, 1, 1]]\n",
        "similarity = cosine_similarity(A, B)\n",
        "print(similarity)'''\n"
      ],
      "metadata": {
        "colab": {
          "base_uri": "https://localhost:8080/",
          "height": 53
        },
        "id": "BHsiBVQkSgZl",
        "outputId": "0bf5d19a-379e-4395-eff0-e5739043dd23"
      },
      "execution_count": 2,
      "outputs": [
        {
          "output_type": "execute_result",
          "data": {
            "text/plain": [
              "'from sklearn.metrics.pairwise import cosine_similarity\\n\\nA = [[1, 0, 1]]\\nB = [[0, 1, 1]]\\nsimilarity = cosine_similarity(A, B)\\nprint(similarity)'"
            ],
            "application/vnd.google.colaboratory.intrinsic+json": {
              "type": "string"
            }
          },
          "metadata": {},
          "execution_count": 2
        }
      ]
    },
    {
      "cell_type": "code",
      "source": [
        "df1=pd.read_csv('movies.csv')\n",
        "df1.head(1)"
      ],
      "metadata": {
        "colab": {
          "base_uri": "https://localhost:8080/",
          "height": 251
        },
        "id": "8S1bvOl6S2_1",
        "outputId": "ce38a3be-eb0b-477d-d778-c0fc90c31a25"
      },
      "execution_count": 3,
      "outputs": [
        {
          "output_type": "execute_result",
          "data": {
            "text/plain": [
              "   index     budget                                    genres  \\\n",
              "0      0  237000000  Action Adventure Fantasy Science Fiction   \n",
              "\n",
              "                      homepage     id  \\\n",
              "0  http://www.avatarmovie.com/  19995   \n",
              "\n",
              "                                            keywords original_language  \\\n",
              "0  culture clash future space war space colony so...                en   \n",
              "\n",
              "  original_title                                           overview  \\\n",
              "0         Avatar  In the 22nd century, a paraplegic Marine is di...   \n",
              "\n",
              "   popularity  ... runtime                                   spoken_languages  \\\n",
              "0  150.437577  ...   162.0  [{\"iso_639_1\": \"en\", \"name\": \"English\"}, {\"iso...   \n",
              "\n",
              "     status                      tagline   title vote_average vote_count  \\\n",
              "0  Released  Enter the World of Pandora.  Avatar          7.2      11800   \n",
              "\n",
              "                                                cast  \\\n",
              "0  Sam Worthington Zoe Saldana Sigourney Weaver S...   \n",
              "\n",
              "                                                crew       director  \n",
              "0  [{'name': 'Stephen E. Rivkin', 'gender': 0, 'd...  James Cameron  \n",
              "\n",
              "[1 rows x 24 columns]"
            ],
            "text/html": [
              "\n",
              "  <div id=\"df-e49b2eb1-b898-40f6-8335-6a7e896a9b83\" class=\"colab-df-container\">\n",
              "    <div>\n",
              "<style scoped>\n",
              "    .dataframe tbody tr th:only-of-type {\n",
              "        vertical-align: middle;\n",
              "    }\n",
              "\n",
              "    .dataframe tbody tr th {\n",
              "        vertical-align: top;\n",
              "    }\n",
              "\n",
              "    .dataframe thead th {\n",
              "        text-align: right;\n",
              "    }\n",
              "</style>\n",
              "<table border=\"1\" class=\"dataframe\">\n",
              "  <thead>\n",
              "    <tr style=\"text-align: right;\">\n",
              "      <th></th>\n",
              "      <th>index</th>\n",
              "      <th>budget</th>\n",
              "      <th>genres</th>\n",
              "      <th>homepage</th>\n",
              "      <th>id</th>\n",
              "      <th>keywords</th>\n",
              "      <th>original_language</th>\n",
              "      <th>original_title</th>\n",
              "      <th>overview</th>\n",
              "      <th>popularity</th>\n",
              "      <th>...</th>\n",
              "      <th>runtime</th>\n",
              "      <th>spoken_languages</th>\n",
              "      <th>status</th>\n",
              "      <th>tagline</th>\n",
              "      <th>title</th>\n",
              "      <th>vote_average</th>\n",
              "      <th>vote_count</th>\n",
              "      <th>cast</th>\n",
              "      <th>crew</th>\n",
              "      <th>director</th>\n",
              "    </tr>\n",
              "  </thead>\n",
              "  <tbody>\n",
              "    <tr>\n",
              "      <th>0</th>\n",
              "      <td>0</td>\n",
              "      <td>237000000</td>\n",
              "      <td>Action Adventure Fantasy Science Fiction</td>\n",
              "      <td>http://www.avatarmovie.com/</td>\n",
              "      <td>19995</td>\n",
              "      <td>culture clash future space war space colony so...</td>\n",
              "      <td>en</td>\n",
              "      <td>Avatar</td>\n",
              "      <td>In the 22nd century, a paraplegic Marine is di...</td>\n",
              "      <td>150.437577</td>\n",
              "      <td>...</td>\n",
              "      <td>162.0</td>\n",
              "      <td>[{\"iso_639_1\": \"en\", \"name\": \"English\"}, {\"iso...</td>\n",
              "      <td>Released</td>\n",
              "      <td>Enter the World of Pandora.</td>\n",
              "      <td>Avatar</td>\n",
              "      <td>7.2</td>\n",
              "      <td>11800</td>\n",
              "      <td>Sam Worthington Zoe Saldana Sigourney Weaver S...</td>\n",
              "      <td>[{'name': 'Stephen E. Rivkin', 'gender': 0, 'd...</td>\n",
              "      <td>James Cameron</td>\n",
              "    </tr>\n",
              "  </tbody>\n",
              "</table>\n",
              "<p>1 rows × 24 columns</p>\n",
              "</div>\n",
              "    <div class=\"colab-df-buttons\">\n",
              "\n",
              "  <div class=\"colab-df-container\">\n",
              "    <button class=\"colab-df-convert\" onclick=\"convertToInteractive('df-e49b2eb1-b898-40f6-8335-6a7e896a9b83')\"\n",
              "            title=\"Convert this dataframe to an interactive table.\"\n",
              "            style=\"display:none;\">\n",
              "\n",
              "  <svg xmlns=\"http://www.w3.org/2000/svg\" height=\"24px\" viewBox=\"0 -960 960 960\">\n",
              "    <path d=\"M120-120v-720h720v720H120Zm60-500h600v-160H180v160Zm220 220h160v-160H400v160Zm0 220h160v-160H400v160ZM180-400h160v-160H180v160Zm440 0h160v-160H620v160ZM180-180h160v-160H180v160Zm440 0h160v-160H620v160Z\"/>\n",
              "  </svg>\n",
              "    </button>\n",
              "\n",
              "  <style>\n",
              "    .colab-df-container {\n",
              "      display:flex;\n",
              "      gap: 12px;\n",
              "    }\n",
              "\n",
              "    .colab-df-convert {\n",
              "      background-color: #E8F0FE;\n",
              "      border: none;\n",
              "      border-radius: 50%;\n",
              "      cursor: pointer;\n",
              "      display: none;\n",
              "      fill: #1967D2;\n",
              "      height: 32px;\n",
              "      padding: 0 0 0 0;\n",
              "      width: 32px;\n",
              "    }\n",
              "\n",
              "    .colab-df-convert:hover {\n",
              "      background-color: #E2EBFA;\n",
              "      box-shadow: 0px 1px 2px rgba(60, 64, 67, 0.3), 0px 1px 3px 1px rgba(60, 64, 67, 0.15);\n",
              "      fill: #174EA6;\n",
              "    }\n",
              "\n",
              "    .colab-df-buttons div {\n",
              "      margin-bottom: 4px;\n",
              "    }\n",
              "\n",
              "    [theme=dark] .colab-df-convert {\n",
              "      background-color: #3B4455;\n",
              "      fill: #D2E3FC;\n",
              "    }\n",
              "\n",
              "    [theme=dark] .colab-df-convert:hover {\n",
              "      background-color: #434B5C;\n",
              "      box-shadow: 0px 1px 3px 1px rgba(0, 0, 0, 0.15);\n",
              "      filter: drop-shadow(0px 1px 2px rgba(0, 0, 0, 0.3));\n",
              "      fill: #FFFFFF;\n",
              "    }\n",
              "  </style>\n",
              "\n",
              "    <script>\n",
              "      const buttonEl =\n",
              "        document.querySelector('#df-e49b2eb1-b898-40f6-8335-6a7e896a9b83 button.colab-df-convert');\n",
              "      buttonEl.style.display =\n",
              "        google.colab.kernel.accessAllowed ? 'block' : 'none';\n",
              "\n",
              "      async function convertToInteractive(key) {\n",
              "        const element = document.querySelector('#df-e49b2eb1-b898-40f6-8335-6a7e896a9b83');\n",
              "        const dataTable =\n",
              "          await google.colab.kernel.invokeFunction('convertToInteractive',\n",
              "                                                    [key], {});\n",
              "        if (!dataTable) return;\n",
              "\n",
              "        const docLinkHtml = 'Like what you see? Visit the ' +\n",
              "          '<a target=\"_blank\" href=https://colab.research.google.com/notebooks/data_table.ipynb>data table notebook</a>'\n",
              "          + ' to learn more about interactive tables.';\n",
              "        element.innerHTML = '';\n",
              "        dataTable['output_type'] = 'display_data';\n",
              "        await google.colab.output.renderOutput(dataTable, element);\n",
              "        const docLink = document.createElement('div');\n",
              "        docLink.innerHTML = docLinkHtml;\n",
              "        element.appendChild(docLink);\n",
              "      }\n",
              "    </script>\n",
              "  </div>\n",
              "\n",
              "\n",
              "    </div>\n",
              "  </div>\n"
            ],
            "application/vnd.google.colaboratory.intrinsic+json": {
              "type": "dataframe",
              "variable_name": "df1"
            }
          },
          "metadata": {},
          "execution_count": 3
        }
      ]
    },
    {
      "cell_type": "code",
      "source": [
        "selected_features = ['genres', 'keywords', 'title', 'popularity', 'revenue',\n",
        "                     'runtime', 'spoken_languages', 'tagline', 'cast', 'crew', 'director']\n",
        "df=df1[selected_features]\n",
        "\n",
        "print(df.isnull().sum())\n",
        "df.head(1)\n"
      ],
      "metadata": {
        "colab": {
          "base_uri": "https://localhost:8080/",
          "height": 358
        },
        "id": "32NbuRGCVMy-",
        "outputId": "f11c55cb-29d1-433c-b8ae-ad69cace9aca"
      },
      "execution_count": 29,
      "outputs": [
        {
          "output_type": "stream",
          "name": "stdout",
          "text": [
            "genres               28\n",
            "keywords            412\n",
            "title                 0\n",
            "popularity            0\n",
            "revenue               0\n",
            "runtime               2\n",
            "spoken_languages      0\n",
            "tagline             844\n",
            "cast                 43\n",
            "crew                  0\n",
            "director             30\n",
            "dtype: int64\n"
          ]
        },
        {
          "output_type": "execute_result",
          "data": {
            "text/plain": [
              "                                     genres  \\\n",
              "0  Action Adventure Fantasy Science Fiction   \n",
              "\n",
              "                                            keywords   title  popularity  \\\n",
              "0  culture clash future space war space colony so...  Avatar  150.437577   \n",
              "\n",
              "      revenue  runtime                                   spoken_languages  \\\n",
              "0  2787965087    162.0  [{\"iso_639_1\": \"en\", \"name\": \"English\"}, {\"iso...   \n",
              "\n",
              "                       tagline  \\\n",
              "0  Enter the World of Pandora.   \n",
              "\n",
              "                                                cast  \\\n",
              "0  Sam Worthington Zoe Saldana Sigourney Weaver S...   \n",
              "\n",
              "                                                crew       director  \n",
              "0  [{'name': 'Stephen E. Rivkin', 'gender': 0, 'd...  James Cameron  "
            ],
            "text/html": [
              "\n",
              "  <div id=\"df-f3223b18-6143-44d5-97ea-fe9dbff3e146\" class=\"colab-df-container\">\n",
              "    <div>\n",
              "<style scoped>\n",
              "    .dataframe tbody tr th:only-of-type {\n",
              "        vertical-align: middle;\n",
              "    }\n",
              "\n",
              "    .dataframe tbody tr th {\n",
              "        vertical-align: top;\n",
              "    }\n",
              "\n",
              "    .dataframe thead th {\n",
              "        text-align: right;\n",
              "    }\n",
              "</style>\n",
              "<table border=\"1\" class=\"dataframe\">\n",
              "  <thead>\n",
              "    <tr style=\"text-align: right;\">\n",
              "      <th></th>\n",
              "      <th>genres</th>\n",
              "      <th>keywords</th>\n",
              "      <th>title</th>\n",
              "      <th>popularity</th>\n",
              "      <th>revenue</th>\n",
              "      <th>runtime</th>\n",
              "      <th>spoken_languages</th>\n",
              "      <th>tagline</th>\n",
              "      <th>cast</th>\n",
              "      <th>crew</th>\n",
              "      <th>director</th>\n",
              "    </tr>\n",
              "  </thead>\n",
              "  <tbody>\n",
              "    <tr>\n",
              "      <th>0</th>\n",
              "      <td>Action Adventure Fantasy Science Fiction</td>\n",
              "      <td>culture clash future space war space colony so...</td>\n",
              "      <td>Avatar</td>\n",
              "      <td>150.437577</td>\n",
              "      <td>2787965087</td>\n",
              "      <td>162.0</td>\n",
              "      <td>[{\"iso_639_1\": \"en\", \"name\": \"English\"}, {\"iso...</td>\n",
              "      <td>Enter the World of Pandora.</td>\n",
              "      <td>Sam Worthington Zoe Saldana Sigourney Weaver S...</td>\n",
              "      <td>[{'name': 'Stephen E. Rivkin', 'gender': 0, 'd...</td>\n",
              "      <td>James Cameron</td>\n",
              "    </tr>\n",
              "  </tbody>\n",
              "</table>\n",
              "</div>\n",
              "    <div class=\"colab-df-buttons\">\n",
              "\n",
              "  <div class=\"colab-df-container\">\n",
              "    <button class=\"colab-df-convert\" onclick=\"convertToInteractive('df-f3223b18-6143-44d5-97ea-fe9dbff3e146')\"\n",
              "            title=\"Convert this dataframe to an interactive table.\"\n",
              "            style=\"display:none;\">\n",
              "\n",
              "  <svg xmlns=\"http://www.w3.org/2000/svg\" height=\"24px\" viewBox=\"0 -960 960 960\">\n",
              "    <path d=\"M120-120v-720h720v720H120Zm60-500h600v-160H180v160Zm220 220h160v-160H400v160Zm0 220h160v-160H400v160ZM180-400h160v-160H180v160Zm440 0h160v-160H620v160ZM180-180h160v-160H180v160Zm440 0h160v-160H620v160Z\"/>\n",
              "  </svg>\n",
              "    </button>\n",
              "\n",
              "  <style>\n",
              "    .colab-df-container {\n",
              "      display:flex;\n",
              "      gap: 12px;\n",
              "    }\n",
              "\n",
              "    .colab-df-convert {\n",
              "      background-color: #E8F0FE;\n",
              "      border: none;\n",
              "      border-radius: 50%;\n",
              "      cursor: pointer;\n",
              "      display: none;\n",
              "      fill: #1967D2;\n",
              "      height: 32px;\n",
              "      padding: 0 0 0 0;\n",
              "      width: 32px;\n",
              "    }\n",
              "\n",
              "    .colab-df-convert:hover {\n",
              "      background-color: #E2EBFA;\n",
              "      box-shadow: 0px 1px 2px rgba(60, 64, 67, 0.3), 0px 1px 3px 1px rgba(60, 64, 67, 0.15);\n",
              "      fill: #174EA6;\n",
              "    }\n",
              "\n",
              "    .colab-df-buttons div {\n",
              "      margin-bottom: 4px;\n",
              "    }\n",
              "\n",
              "    [theme=dark] .colab-df-convert {\n",
              "      background-color: #3B4455;\n",
              "      fill: #D2E3FC;\n",
              "    }\n",
              "\n",
              "    [theme=dark] .colab-df-convert:hover {\n",
              "      background-color: #434B5C;\n",
              "      box-shadow: 0px 1px 3px 1px rgba(0, 0, 0, 0.15);\n",
              "      filter: drop-shadow(0px 1px 2px rgba(0, 0, 0, 0.3));\n",
              "      fill: #FFFFFF;\n",
              "    }\n",
              "  </style>\n",
              "\n",
              "    <script>\n",
              "      const buttonEl =\n",
              "        document.querySelector('#df-f3223b18-6143-44d5-97ea-fe9dbff3e146 button.colab-df-convert');\n",
              "      buttonEl.style.display =\n",
              "        google.colab.kernel.accessAllowed ? 'block' : 'none';\n",
              "\n",
              "      async function convertToInteractive(key) {\n",
              "        const element = document.querySelector('#df-f3223b18-6143-44d5-97ea-fe9dbff3e146');\n",
              "        const dataTable =\n",
              "          await google.colab.kernel.invokeFunction('convertToInteractive',\n",
              "                                                    [key], {});\n",
              "        if (!dataTable) return;\n",
              "\n",
              "        const docLinkHtml = 'Like what you see? Visit the ' +\n",
              "          '<a target=\"_blank\" href=https://colab.research.google.com/notebooks/data_table.ipynb>data table notebook</a>'\n",
              "          + ' to learn more about interactive tables.';\n",
              "        element.innerHTML = '';\n",
              "        dataTable['output_type'] = 'display_data';\n",
              "        await google.colab.output.renderOutput(dataTable, element);\n",
              "        const docLink = document.createElement('div');\n",
              "        docLink.innerHTML = docLinkHtml;\n",
              "        element.appendChild(docLink);\n",
              "      }\n",
              "    </script>\n",
              "  </div>\n",
              "\n",
              "\n",
              "    </div>\n",
              "  </div>\n"
            ],
            "application/vnd.google.colaboratory.intrinsic+json": {
              "type": "dataframe",
              "variable_name": "df",
              "summary": "{\n  \"name\": \"df\",\n  \"rows\": 4803,\n  \"fields\": [\n    {\n      \"column\": \"genres\",\n      \"properties\": {\n        \"dtype\": \"category\",\n        \"num_unique_values\": 1168,\n        \"samples\": [\n          \"Adventure Family\",\n          \"Comedy Mystery Thriller\",\n          \"Drama Action Adventure Fantasy\"\n        ],\n        \"semantic_type\": \"\",\n        \"description\": \"\"\n      }\n    },\n    {\n      \"column\": \"keywords\",\n      \"properties\": {\n        \"dtype\": \"string\",\n        \"num_unique_values\": 4219,\n        \"samples\": [\n          \"revolution political activism loser\",\n          \"riddle captain treasure liquor treasure hunt\",\n          \"male nudity parents kids relationship camping cutting the cord self-discovery\"\n        ],\n        \"semantic_type\": \"\",\n        \"description\": \"\"\n      }\n    },\n    {\n      \"column\": \"title\",\n      \"properties\": {\n        \"dtype\": \"string\",\n        \"num_unique_values\": 4800,\n        \"samples\": [\n          \"I Spy\",\n          \"Who's Your Caddy?\",\n          \"Sleepover\"\n        ],\n        \"semantic_type\": \"\",\n        \"description\": \"\"\n      }\n    },\n    {\n      \"column\": \"popularity\",\n      \"properties\": {\n        \"dtype\": \"number\",\n        \"std\": 31.816649749537802,\n        \"min\": 0.0,\n        \"max\": 875.581305,\n        \"num_unique_values\": 4802,\n        \"samples\": [\n          13.267631,\n          0.010909,\n          5.842299\n        ],\n        \"semantic_type\": \"\",\n        \"description\": \"\"\n      }\n    },\n    {\n      \"column\": \"revenue\",\n      \"properties\": {\n        \"dtype\": \"number\",\n        \"std\": 162857100,\n        \"min\": 0,\n        \"max\": 2787965087,\n        \"num_unique_values\": 3297,\n        \"samples\": [\n          11833696,\n          10462500,\n          17807569\n        ],\n        \"semantic_type\": \"\",\n        \"description\": \"\"\n      }\n    },\n    {\n      \"column\": \"runtime\",\n      \"properties\": {\n        \"dtype\": \"number\",\n        \"std\": 22.611934588844207,\n        \"min\": 0.0,\n        \"max\": 338.0,\n        \"num_unique_values\": 156,\n        \"samples\": [\n          74.0,\n          85.0,\n          170.0\n        ],\n        \"semantic_type\": \"\",\n        \"description\": \"\"\n      }\n    },\n    {\n      \"column\": \"spoken_languages\",\n      \"properties\": {\n        \"dtype\": \"category\",\n        \"num_unique_values\": 544,\n        \"samples\": [\n          \"[{\\\"iso_639_1\\\": \\\"es\\\", \\\"name\\\": \\\"Espa\\\\u00f1ol\\\"}, {\\\"iso_639_1\\\": \\\"en\\\", \\\"name\\\": \\\"English\\\"}, {\\\"iso_639_1\\\": \\\"fr\\\", \\\"name\\\": \\\"Fran\\\\u00e7ais\\\"}, {\\\"iso_639_1\\\": \\\"hu\\\", \\\"name\\\": \\\"Magyar\\\"}]\",\n          \"[{\\\"iso_639_1\\\": \\\"en\\\", \\\"name\\\": \\\"English\\\"}, {\\\"iso_639_1\\\": \\\"it\\\", \\\"name\\\": \\\"Italiano\\\"}, {\\\"iso_639_1\\\": \\\"pt\\\", \\\"name\\\": \\\"Portugu\\\\u00eas\\\"}]\",\n          \"[{\\\"iso_639_1\\\": \\\"de\\\", \\\"name\\\": \\\"Deutsch\\\"}, {\\\"iso_639_1\\\": \\\"it\\\", \\\"name\\\": \\\"Italiano\\\"}, {\\\"iso_639_1\\\": \\\"la\\\", \\\"name\\\": \\\"Latin\\\"}, {\\\"iso_639_1\\\": \\\"pl\\\", \\\"name\\\": \\\"Polski\\\"}]\"\n        ],\n        \"semantic_type\": \"\",\n        \"description\": \"\"\n      }\n    },\n    {\n      \"column\": \"tagline\",\n      \"properties\": {\n        \"dtype\": \"string\",\n        \"num_unique_values\": 3944,\n        \"samples\": [\n          \"When you're 17, every day is war.\",\n          \"An Unspeakable Horror. A Creative Genius. Captured For Eternity.\",\n          \"May the schwartz be with you\"\n        ],\n        \"semantic_type\": \"\",\n        \"description\": \"\"\n      }\n    },\n    {\n      \"column\": \"cast\",\n      \"properties\": {\n        \"dtype\": \"string\",\n        \"num_unique_values\": 4741,\n        \"samples\": [\n          \"Al Gore Billy West Ronald Reagan George W. Bush George H. W. Bush\",\n          \"David Schwimmer Gwyneth Paltrow Michael Rapaport Toni Collette Carol Kane\",\n          \"Paul Scofield Wendy Hiller Leo McKern Robert Shaw Orson Welles\"\n        ],\n        \"semantic_type\": \"\",\n        \"description\": \"\"\n      }\n    },\n    {\n      \"column\": \"crew\",\n      \"properties\": {\n        \"dtype\": \"string\",\n        \"num_unique_values\": 4776,\n        \"samples\": [\n          \"[{'name': 'Mark Goldblatt', 'gender': 2, 'department': 'Editing', 'job': 'Editor', 'credit_id': '538d82720e0a26670e005e83', 'id': 898}, {'name': 'Mark Helfrich', 'gender': 2, 'department': 'Editing', 'job': 'Editor', 'credit_id': '538d82860e0a266702005de5', 'id': 1098}, {'name': 'Ralph Winter', 'gender': 0, 'department': 'Production', 'job': 'Producer', 'credit_id': '538d820c0e0a266708006129', 'id': 2095}, {'name': 'Richard Pagano', 'gender': 2, 'department': 'Production', 'job': 'Casting', 'credit_id': '538d82d30e0a266712005def', 'id': 2624}, {'name': 'Ed Verreaux', 'gender': 2, 'department': 'Art', 'job': 'Production Design', 'credit_id': '538d82ea0e0a266715005e74', 'id': 4953}, {'name': 'Heike Brandstatter', 'gender': 1, 'department': 'Production', 'job': 'Casting', 'credit_id': '538d82ad0e0a26670800614d', 'id': 5362}, {'name': 'Coreen Mayrs', 'gender': 1, 'department': 'Production', 'job': 'Casting', 'credit_id': '538d82c00e0a266705005fa2', 'id': 5363}, {'name': 'Dan Moore', 'gender': 0, 'department': 'Costume & Make-Up', 'job': 'Costume Supervisor', 'credit_id': '538d845ec3a368713c0047d2', 'id': 6924}, {'name': 'Lauren Shuler Donner', 'gender': 1, 'department': 'Production', 'job': 'Producer', 'credit_id': '538d81ef0e0a266718005cb8', 'id': 7200}, {'name': 'Stan Lee', 'gender': 2, 'department': 'Production', 'job': 'Executive Producer', 'credit_id': '576710bec3a36806720004b0', 'id': 7624}, {'name': 'Avi Arad', 'gender': 2, 'department': 'Production', 'job': 'Producer', 'credit_id': '538d81d80e0a266715005e4d', 'id': 7626}, {'name': 'Kevin Feige', 'gender': 2, 'department': 'Production', 'job': 'Executive Producer', 'credit_id': '5767101092514165c20000db', 'id': 10850}, {'name': 'Judianna Makovsky', 'gender': 1, 'department': 'Costume & Make-Up', 'job': 'Costume Design', 'credit_id': '538d83ba0e0a26670b005ded', 'id': 10970}, {'name': 'Justin Scoppa Jr.', 'gender': 2, 'department': 'Art', 'job': 'Art Direction', 'credit_id': '538d83620e0a266715005e82', 'id': 10549}, {'name': 'John Powell', 'gender': 2, 'department': 'Sound', 'job': 'Original Music Composer', 'credit_id': '5626465bc3a3680e0e01704b', 'id': 11098}, {'name': 'Simon Kinberg', 'gender': 2, 'department': 'Writing', 'job': 'Screenplay', 'credit_id': '52fe45ff9251416c910459e1', 'id': 11092}, {'name': 'Bill Corso', 'gender': 2, 'department': 'Crew', 'job': 'Makeup Effects', 'credit_id': '56abe4ecc3a3681c47003aa3', 'id': 15017}, {'name': 'Dante Spinotti', 'gender': 2, 'department': 'Camera', 'job': 'Director of Photography', 'credit_id': '538d82560e0a266705005f94', 'id': 11099}, {'name': 'Zak Penn', 'gender': 2, 'department': 'Writing', 'job': 'Screenplay', 'credit_id': '52fe45ff9251416c910459e7', 'id': 11011}, {'name': 'Brett Ratner', 'gender': 2, 'department': 'Directing', 'job': 'Director', 'credit_id': '52fe45ff9251416c910459db', 'id': 11091}, {'name': 'Helen Jarvis', 'gender': 1, 'department': 'Art', 'job': 'Art Direction', 'credit_id': '538d834f0e0a266712005dfe', 'id': 22061}, {'name': 'Elizabeth Wilcox', 'gender': 1, 'department': 'Art', 'job': 'Set Decoration', 'credit_id': '538d83a50e0a266715005e8b', 'id': 11021}, {'name': 'Chad S. Frey', 'gender': 0, 'department': 'Art', 'job': 'Art Direction', 'credit_id': '538d83220e0a266702005df6', 'id': 11102}, {'name': 'Geoff Hubbard', 'gender': 0, 'department': 'Art', 'job': 'Supervising Art Director', 'credit_id': '570b8dde9251412c740020d0', 'id': 46082}, {'name': 'Lisa Tomczeszyn', 'gender': 2, 'department': 'Costume & Make-Up', 'job': 'Costume Design', 'credit_id': '538d83ce0e0a266702005e02', 'id': 11106}, {'name': 'James Bamford', 'gender': 0, 'department': 'Crew', 'job': 'Stunts', 'credit_id': '560046499251414e4d000197', 'id': 113194}, {'name': 'Julia Wong', 'gender': 1, 'department': 'Editing', 'job': 'Editor', 'credit_id': '538d82990e0a266712005de9', 'id': 11100}, {'name': 'James M. Freitag', 'gender': 2, 'department': 'Production', 'job': 'Co-Producer', 'credit_id': '57671042c3a36806b3000104', 'id': 11095}, {'name': 'Ross Fanger', 'gender': 2, 'department': 'Production', 'job': 'Co-Producer', 'credit_id': '57670fdbc3a3680722000106', 'id': 11014}, {'name': 'Sandi Tanaka', 'gender': 0, 'department': 'Art', 'job': 'Art Direction', 'credit_id': '538d83750e0a26670b005de5', 'id': 223991}, {'name': 'John Palermo', 'gender': 0, 'department': 'Production', 'job': 'Executive Producer', 'credit_id': '576710f192514133c5001213', 'id': 1182092}, {'name': 'John Bruno', 'gender': 0, 'department': 'Visual Effects', 'job': 'Visual Effects Supervisor', 'credit_id': '55402d2fc3a3681da0000633', 'id': 1395269}, {'name': 'Guy Williams', 'gender': 0, 'department': 'Crew', 'job': 'Digital Effects Supervisor', 'credit_id': '563a9ed79251416d520145a0', 'id': 1401803}, {'name': 'Kurt Williams', 'gender': 0, 'department': 'Production', 'job': 'Co-Producer', 'credit_id': '5767112fc3a3680722000132', 'id': 1432021}, {'name': 'Rachel Wyn Dunn', 'gender': 0, 'department': 'Crew', 'job': 'Compositors', 'credit_id': '55423048c3a36829e5003bc8', 'id': 1447557}, {'name': 'Joel Fletcher', 'gender': 0, 'department': 'Visual Effects', 'job': 'Animation', 'credit_id': '552986b4c3a368596e001a79', 'id': 1452932}, {'name': 'Lee Cleary', 'gender': 0, 'department': 'Production', 'job': 'Co-Producer', 'credit_id': '57670f92925141655a000109', 'id': 1477146}, {'name': 'David Gorder', 'gender': 0, 'department': 'Production', 'job': 'Associate Producer', 'credit_id': '5767107c925141655a00012c', 'id': 1477147}, {'name': 'Luca Marco Paracels', 'gender': 2, 'department': 'Production', 'job': 'Associate Producer', 'credit_id': '5767105bc3a36850c4000573', 'id': 1477203}]\",\n          \"[{'name': 'Jeanne McCarthy', 'gender': 1, 'department': 'Production', 'job': 'Casting', 'credit_id': '58dd0e90c3a368223e00b59c', 'id': 546}, {'name': 'John Davis', 'gender': 2, 'department': 'Production', 'job': 'Producer', 'credit_id': '52fe43bb9251416c7501bf83', 'id': 2043}, {'name': 'David Newman', 'gender': 2, 'department': 'Sound', 'job': 'Original Music Composer', 'credit_id': '5539fe35c3a3685cf8002f1e', 'id': 3393}, {'name': \\\"Aldric La'Auli Porter\\\", 'gender': 0, 'department': 'Production', 'job': 'Associate Producer', 'credit_id': '58dd0d3fc3a368228a00aa50', 'id': 6187}, {'name': \\\"Aldric La'Auli Porter\\\", 'gender': 0, 'department': 'Directing', 'job': 'First Assistant Director', 'credit_id': '5990427f925141672302ba00', 'id': 6187}, {'name': 'William Sandell', 'gender': 2, 'department': 'Art', 'job': 'Production Design', 'credit_id': '58dd0efdc3a368228300b438', 'id': 6877}, {'name': 'Robert Gould', 'gender': 2, 'department': 'Art', 'job': 'Set Decoration', 'credit_id': '58dd0f56925141411000c340', 'id': 6880}, {'name': 'Brad Ricker', 'gender': 2, 'department': 'Art', 'job': 'Art Direction', 'credit_id': '58dd0f1fc3a36822a600c1dd', 'id': 8705}, {'name': 'Dan Yale', 'gender': 0, 'department': 'Sound', 'job': 'Foley Editor', 'credit_id': '5990490b925141673e02d2f5', 'id': 8763}, {'name': 'Neil A. Machlis', 'gender': 2, 'department': 'Production', 'job': 'Executive Producer', 'credit_id': '58dd0d3192514140f600b915', 'id': 8880}, {'name': 'Juel Bestrop', 'gender': 1, 'department': 'Production', 'job': 'Casting', 'credit_id': '58dd0e0bc3a368229300bdf6', 'id': 14377}, {'name': 'Hugo Santiago', 'gender': 0, 'department': 'Art', 'job': 'Set Designer', 'credit_id': '599045b6925141672302bdac', 'id': 12639}, {'name': 'Ruth E. Carter', 'gender': 1, 'department': 'Costume & Make-Up', 'job': 'Costume Design', 'credit_id': '58dd0f69c3a368228300b48f', 'id': 15524}, {'name': 'Craig Herring', 'gender': 2, 'department': 'Editing', 'job': 'Editor', 'credit_id': '52fe43bb9251416c7501bf9b', 'id': 18276}, {'name': 'Bruce Crone', 'gender': 2, 'department': 'Art', 'job': 'Supervising Art Director', 'credit_id': '58dd0f2f92514140fa00c653', 'id': 13434}, {'name': 'Douglas Smith', 'gender': 0, 'department': 'Visual Effects', 'job': 'Visual Effects Supervisor', 'credit_id': '59904bcdc3a368744202b9fb', 'id': 27100}, {'name': 'Larry Levin', 'gender': 2, 'department': 'Writing', 'job': 'Screenplay', 'credit_id': '52fe43bb9251416c7501bf7d', 'id': 31026}, {'name': 'Michele Imperato', 'gender': 1, 'department': 'Production', 'job': 'Co-Producer', 'credit_id': '58dd0c8592514140fa00c441', 'id': 49907}, {'name': 'Michele Imperato', 'gender': 1, 'department': 'Production', 'job': 'Unit Production Manager', 'credit_id': '58dd0fb0c3a368227300bfad', 'id': 49907}, {'name': 'Steve Carr', 'gender': 2, 'department': 'Directing', 'job': 'Director', 'credit_id': '52fe43bb9251416c7501bfb1', 'id': 52112}, {'name': 'R.J. Kizer', 'gender': 2, 'department': 'Sound', 'job': 'Dialogue Editor', 'credit_id': '5990471cc3a36874a302bbdc', 'id': 52193}, {'name': 'Daryn Okada', 'gender': 2, 'department': 'Camera', 'job': 'Director of Photography', 'credit_id': '52fe43bb9251416c7501bf95', 'id': 56324}, {'name': 'Joseph Singer', 'gender': 2, 'department': 'Production', 'job': 'Producer', 'credit_id': '52fe43bb9251416c7501bf89', 'id': 56053}, {'name': 'Peter S. Elliot', 'gender': 2, 'department': 'Crew', 'job': 'Visual Effects Editor', 'credit_id': '59904a06925141676602b701', 'id': 57769}, {'name': 'Heidi Santelli', 'gender': 1, 'department': 'Production', 'job': 'Co-Producer', 'credit_id': '58dd0d4c92514140fa00c4da', 'id': 66921}, {'name': 'Tom Villano', 'gender': 0, 'department': 'Sound', 'job': 'Music Editor', 'credit_id': '59905155c3a36874b402a906', 'id': 91324}, {'name': 'Judy Murdock', 'gender': 0, 'department': 'Costume & Make-Up', 'job': 'Makeup Artist', 'credit_id': '5990424a925141676602adf3', 'id': 168214}, {'name': 'Bruce McBroom', 'gender': 2, 'department': 'Camera', 'job': 'Still Photographer', 'credit_id': '59904eae925141673e02da30', 'id': 555085}, {'name': 'Kris Evans', 'gender': 0, 'department': 'Costume & Make-Up', 'job': 'Makeup Department Head', 'credit_id': '599041d0c3a36874a302b5e9', 'id': 1015965}, {'name': 'Iddo Lampton Enochs Jr.', 'gender': 0, 'department': 'Production', 'job': 'Location Manager', 'credit_id': '58dd11a2c3a368227300c14b', 'id': 1113659}, {'name': 'Liz Radley', 'gender': 0, 'department': 'Crew', 'job': 'CG Supervisor', 'credit_id': '59904b71925141675f02b7e7', 'id': 1178615}, {'name': 'Donna Marcione Pollack', 'gender': 0, 'department': 'Costume & Make-Up', 'job': 'Costume Supervisor', 'credit_id': '59904fe5c3a368744202bf0c', 'id': 1319193}, {'name': 'Frank McEldowney', 'gender': 0, 'department': 'Art', 'job': 'Greensman', 'credit_id': '599044c4925141672302bc97', 'id': 1364403}, {'name': 'Ted Caplan', 'gender': 0, 'department': 'Sound', 'job': 'Dialogue Editor', 'credit_id': '59904694925141673e02cfd2', 'id': 1367505}, {'name': 'Gerald Lehtola', 'gender': 0, 'department': 'Art', 'job': 'Art Department Coordinator', 'credit_id': '5990439d925141675902ac1b', 'id': 1377216}, {'name': 'Mark Wade', 'gender': 0, 'department': 'Art', 'job': 'Property Master', 'credit_id': '599045fb925141675f02b16c', 'id': 1378165}, {'name': 'Patricia Klawonn', 'gender': 1, 'department': 'Art', 'job': 'Set Designer', 'credit_id': '58dd0fd0c3a368228a00abfb', 'id': 1378749}, {'name': 'Bill Taliaferro', 'gender': 0, 'department': 'Art', 'job': 'Set Designer', 'credit_id': '58dd1023c3a368227300c025', 'id': 1389585}, {'name': 'Dave Kulczycki', 'gender': 0, 'department': 'Sound', 'job': 'Sound Effects Editor', 'credit_id': '59904785c3a3687493029126', 'id': 1390527}, {'name': 'Elizabeth Frank', 'gender': 0, 'department': 'Costume & Make-Up', 'job': 'Set Costumer', 'credit_id': '59905010925141675f02bd38', 'id': 1399322}, {'name': 'Casey Hotchkiss', 'gender': 2, 'department': 'Camera', 'job': 'Camera Operator', 'credit_id': '59904d81925141670b02cf99', 'id': 1400374}, {'name': 'Zack Davis', 'gender': 0, 'department': 'Sound', 'job': 'ADR Editor', 'credit_id': '599046d2c3a3687493029074', 'id': 1404841}, {'name': 'Erma Kent', 'gender': 0, 'department': 'Costume & Make-Up', 'job': 'Hair Department Head', 'credit_id': '59904214c3a368746102979f', 'id': 1408278}, {'name': 'Donald Sylvester', 'gender': 0, 'department': 'Sound', 'job': 'Supervising Sound Editor', 'credit_id': '599048b2925141670b02c97f', 'id': 1416153}, {'name': 'John Kilkenny', 'gender': 0, 'department': 'Visual Effects', 'job': 'Visual Effects Producer', 'credit_id': '59904ad6c3a36874b402a1cc', 'id': 1416167}, {'name': 'Camille Friend', 'gender': 1, 'department': 'Costume & Make-Up', 'job': 'Hairstylist', 'credit_id': '56ae7d849251416357002915', 'id': 1424894}, {'name': 'Vanessa Lapato', 'gender': 0, 'department': 'Sound', 'job': 'ADR Editor', 'credit_id': '599047ab925141674c02b48e', 'id': 1425343}, {'name': 'Alan E. Lorimer', 'gender': 0, 'department': 'Crew', 'job': 'Special Effects Coordinator', 'credit_id': '59904951925141673902ae4e', 'id': 1442509}, {'name': 'Bryan McBrien', 'gender': 0, 'department': 'Art', 'job': 'Greensman', 'credit_id': '59904427925141675902acc6', 'id': 1451398}, {'name': 'Butch West', 'gender': 0, 'department': 'Art', 'job': 'Construction Coordinator', 'credit_id': '59904629c3a368744202b2d6', 'id': 1453276}, {'name': 'Hugh Lofting', 'gender': 2, 'department': 'Crew', 'job': 'Creator', 'credit_id': '599034bcc3a3687493027d17', 'id': 1454647}, {'name': 'Nancy Karlin', 'gender': 1, 'department': 'Directing', 'job': 'Script Supervisor', 'credit_id': '58dd11f1c3a36822ae00bc75', 'id': 1457729}, {'name': 'Mitchell Ferm', 'gender': 0, 'department': 'Visual Effects', 'job': 'Visual Effects Coordinator', 'credit_id': '59904a8d925141675f02b6d8', 'id': 1496418}, {'name': 'Jim Harrison', 'gender': 2, 'department': 'Sound', 'job': 'Music Editor', 'credit_id': '599050e6925141674c02beef', 'id': 1550058}, {'name': 'Jasan Sherman', 'gender': 0, 'department': 'Art', 'job': 'Location Scout', 'credit_id': '58dd11b0c3a368223e00b7db', 'id': 1585159}, {'name': 'Thomas Meikle', 'gender': 0, 'department': 'Art', 'job': 'Sculptor', 'credit_id': '5990453a925141673902a8ec', 'id': 1586888}, {'name': 'Spring Aspers', 'gender': 0, 'department': 'Sound', 'job': 'Music Supervisor', 'credit_id': '5990506dc3a368747302c6e3', 'id': 1587383}, {'name': 'Craig Anthony', 'gender': 0, 'department': 'Costume & Make-Up', 'job': 'Key Costumer', 'credit_id': '59904fbb925141672302c9ed', 'id': 1610228}, {'name': 'Harrison D. Marsh', 'gender': 2, 'department': 'Sound', 'job': 'Boom Operator', 'credit_id': '599047e3925141674c02b4cf', 'id': 1737829}, {'name': 'Nadia Lubbe Simon', 'gender': 1, 'department': 'Production', 'job': 'Casting Assistant', 'credit_id': '58dd10b2c3a368228300b588', 'id': 1763970}, {'name': 'Diana Jaher', 'gender': 1, 'department': 'Production', 'job': 'Casting Associate', 'credit_id': '58dd1052925141413c00beac', 'id': 1786614}, {'name': 'Craig W. van Gundy', 'gender': 0, 'department': 'Production', 'job': 'Location Manager', 'credit_id': '58dd11d5c3a368229d00b6a0', 'id': 1786616}, {'name': 'Kris Fullan Martinez', 'gender': 1, 'department': 'Production', 'job': 'Production Coordinator', 'credit_id': '58dd1254c3a368227300c1e6', 'id': 1786618}, {'name': 'Joe A. Hawthorne', 'gender': 0, 'department': 'Art', 'job': 'Painter', 'credit_id': '599042f4c3a368744202aefa', 'id': 1868861}, {'name': 'Robert McDonald', 'gender': 0, 'department': 'Crew', 'job': 'Propmaker', 'credit_id': '5990448e925141675f02afa7', 'id': 1868865}, {'name': 'Robert Prchal', 'gender': 0, 'department': 'Crew', 'job': 'Propmaker', 'credit_id': '59904571925141670b02c572', 'id': 1868867}, {'name': 'Hal Schlax', 'gender': 0, 'department': 'Crew', 'job': 'Propmaker', 'credit_id': '599045da925141673902a9d7', 'id': 1868868}, {'name': 'John Molo', 'gender': 2, 'department': 'Crew', 'job': 'Stunt Coordinator', 'credit_id': '59904c34925141675f02b8bc', 'id': 1868877}, {'name': 'Todd Dos Reis', 'gender': 0, 'department': 'Camera', 'job': 'Camera Operator', 'credit_id': '59904cac925141673e02d7a8', 'id': 1868878}, {'name': 'Jason D. Hodges', 'gender': 0, 'department': 'Camera', 'job': 'Dolly Grip', 'credit_id': '59904d04925141676602ba9a', 'id': 1868879}, {'name': 'Mike Hodges', 'gender': 0, 'department': 'Camera', 'job': 'Key Grip', 'credit_id': '59904d3bc3a36874b402a4b0', 'id': 1868880}, {'name': 'Kal Manning', 'gender': 0, 'department': 'Lighting', 'job': 'Gaffer', 'credit_id': '59904df0925141672302c7da', 'id': 1868881}, {'name': 'Larry McCarron', 'gender': 0, 'department': 'Camera', 'job': 'Dolly Grip', 'credit_id': '59904ede925141675f02bbe6', 'id': 1868889}, {'name': 'Kim Strand', 'gender': 0, 'department': 'Sound', 'job': 'Music Editor', 'credit_id': '59905109925141673e02dcde', 'id': 1868892}]\",\n          \"[{'name': 'Harry Manfredini', 'gender': 2, 'department': 'Sound', 'job': 'Original Music Composer', 'credit_id': '52fe44479251416c7502f0c3', 'id': 20953}, {'name': 'Robin D. Cook', 'gender': 0, 'department': 'Production', 'job': 'Casting', 'credit_id': '534a8875c3a3682df60016a4', 'id': 23545}, {'name': 'Sean S. Cunningham', 'gender': 2, 'department': 'Production', 'job': 'Executive Producer', 'credit_id': '52fe44479251416c7502f0ed', 'id': 35475}, {'name': 'Derick V. Underschultz', 'gender': 2, 'department': 'Camera', 'job': 'Director of Photography', 'credit_id': '52fe44479251416c7502f0cf', 'id': 55642}, {'name': 'Todd Farmer', 'gender': 2, 'department': 'Writing', 'job': 'Screenplay', 'credit_id': '52fe44479251416c7502f0b7', 'id': 61117}, {'name': 'David Handman', 'gender': 2, 'department': 'Editing', 'job': 'Editor', 'credit_id': '52fe44479251416c7502f0c9', 'id': 64748}, {'name': 'James Isaac', 'gender': 2, 'department': 'Directing', 'job': 'Director', 'credit_id': '52fe44479251416c7502f0b1', 'id': 69579}, {'name': 'Noel Cunningham', 'gender': 2, 'department': 'Production', 'job': 'Producer', 'credit_id': '52fe44479251416c7502f0bd', 'id': 69585}, {'name': 'Maxyne Baker', 'gender': 0, 'department': 'Costume & Make-Up', 'job': 'Costume Design', 'credit_id': '534a888cc3a3682df60016a8', 'id': 958703}]\"\n        ],\n        \"semantic_type\": \"\",\n        \"description\": \"\"\n      }\n    },\n    {\n      \"column\": \"director\",\n      \"properties\": {\n        \"dtype\": \"category\",\n        \"num_unique_values\": 2349,\n        \"samples\": [\n          \"Hart Bochner\",\n          \"David Wain\",\n          \"Ham Tran\"\n        ],\n        \"semantic_type\": \"\",\n        \"description\": \"\"\n      }\n    }\n  ]\n}"
            }
          },
          "metadata": {},
          "execution_count": 29
        }
      ]
    },
    {
      "cell_type": "code",
      "source": [
        "df= df[df['director'].notna()]\n",
        "print(df.isnull().sum())\n",
        "print(df.info())"
      ],
      "metadata": {
        "colab": {
          "base_uri": "https://localhost:8080/"
        },
        "id": "dJfFbYZ-X86Q",
        "outputId": "89cfd809-9319-4569-b478-7ee245077cf5"
      },
      "execution_count": 30,
      "outputs": [
        {
          "output_type": "stream",
          "name": "stdout",
          "text": [
            "genres               14\n",
            "keywords            386\n",
            "title                 0\n",
            "popularity            0\n",
            "revenue               0\n",
            "runtime               2\n",
            "spoken_languages      0\n",
            "tagline             822\n",
            "cast                 22\n",
            "crew                  0\n",
            "director              0\n",
            "dtype: int64\n",
            "<class 'pandas.core.frame.DataFrame'>\n",
            "Index: 4773 entries, 0 to 4802\n",
            "Data columns (total 11 columns):\n",
            " #   Column            Non-Null Count  Dtype  \n",
            "---  ------            --------------  -----  \n",
            " 0   genres            4759 non-null   object \n",
            " 1   keywords          4387 non-null   object \n",
            " 2   title             4773 non-null   object \n",
            " 3   popularity        4773 non-null   float64\n",
            " 4   revenue           4773 non-null   int64  \n",
            " 5   runtime           4771 non-null   float64\n",
            " 6   spoken_languages  4773 non-null   object \n",
            " 7   tagline           3951 non-null   object \n",
            " 8   cast              4751 non-null   object \n",
            " 9   crew              4773 non-null   object \n",
            " 10  director          4773 non-null   object \n",
            "dtypes: float64(2), int64(1), object(8)\n",
            "memory usage: 447.5+ KB\n",
            "None\n"
          ]
        }
      ]
    },
    {
      "cell_type": "code",
      "source": [
        "for i in selected_features:\n",
        "  df[i]=df[i].fillna('')\n",
        "print(df.isnull().sum())"
      ],
      "metadata": {
        "colab": {
          "base_uri": "https://localhost:8080/"
        },
        "id": "PRB0dXXrZqhh",
        "outputId": "16980118-0adb-4b89-a249-9cbfa60a63c1"
      },
      "execution_count": 31,
      "outputs": [
        {
          "output_type": "stream",
          "name": "stdout",
          "text": [
            "genres              0\n",
            "keywords            0\n",
            "title               0\n",
            "popularity          0\n",
            "revenue             0\n",
            "runtime             0\n",
            "spoken_languages    0\n",
            "tagline             0\n",
            "cast                0\n",
            "crew                0\n",
            "director            0\n",
            "dtype: int64\n"
          ]
        }
      ]
    },
    {
      "cell_type": "code",
      "source": [
        "vectorizer_features=[]\n",
        "for i in selected_features:\n",
        "  if(df[i].dtype=='object'):\n",
        "    vectorizer_features.append(i)\n",
        "print(vectorizer_features)"
      ],
      "metadata": {
        "colab": {
          "base_uri": "https://localhost:8080/"
        },
        "id": "nt4YhuspbX_y",
        "outputId": "fa9ae024-ec33-43fc-af76-6ef08fab9633"
      },
      "execution_count": 32,
      "outputs": [
        {
          "output_type": "stream",
          "name": "stdout",
          "text": [
            "['genres', 'keywords', 'title', 'runtime', 'spoken_languages', 'tagline', 'cast', 'crew', 'director']\n"
          ]
        }
      ]
    },
    {
      "cell_type": "code",
      "source": [
        "combine_features = ['genres', 'keywords', 'title', 'runtime',\n",
        "                    'spoken_languages', 'tagline', 'cast', 'crew', 'director', 'popularity', 'revenue']\n",
        "df['combined_text'] = df[combine_features].astype(str).apply(lambda row: ' '.join(row), axis=1)\n",
        "\n",
        "print(df[['combined_text']].head(10))\n"
      ],
      "metadata": {
        "colab": {
          "base_uri": "https://localhost:8080/"
        },
        "id": "xzashYDMc4zR",
        "outputId": "042b250b-f4c1-42f4-ae9a-57d725597cbb"
      },
      "execution_count": 90,
      "outputs": [
        {
          "output_type": "stream",
          "name": "stdout",
          "text": [
            "                                       combined_text\n",
            "0  Action Adventure Fantasy Science Fiction cultu...\n",
            "1  Adventure Fantasy Action ocean drug abuse exot...\n",
            "2  Action Adventure Crime spy based on novel secr...\n",
            "3  Action Crime Drama Thriller dc comics crime fi...\n",
            "4  Action Adventure Science Fiction based on nove...\n",
            "5  Fantasy Action Adventure dual identity amnesia...\n",
            "6  Animation Family hostage magic horse fairy tal...\n",
            "7  Action Adventure Science Fiction marvel comic ...\n",
            "8  Adventure Fantasy Family witch magic broom sch...\n",
            "9  Action Adventure Fantasy dc comics vigilante s...\n"
          ]
        }
      ]
    },
    {
      "cell_type": "code",
      "source": [
        "vectorizer = TfidfVectorizer()\n",
        "feature_vectors = vectorizer.fit_transform(df['combined_text'])\n",
        "print(feature_vectors)"
      ],
      "metadata": {
        "colab": {
          "base_uri": "https://localhost:8080/"
        },
        "id": "5xS6dXpldW8S",
        "outputId": "3ea12f56-2249-4d6b-caca-46c509b9fccf"
      },
      "execution_count": 91,
      "outputs": [
        {
          "output_type": "stream",
          "name": "stdout",
          "text": [
            "<Compressed Sparse Row sparse matrix of dtype 'float64'\n",
            "\twith 818295 stored elements and shape (4773, 236398)>\n",
            "  Coords\tValues\n",
            "  (0, 190835)\t0.00493295708245524\n",
            "  (0, 190962)\t0.005656068743600346\n",
            "  (0, 203977)\t0.006977034794923524\n",
            "  (0, 226586)\t0.006508621893689301\n",
            "  (0, 204389)\t0.006504819919093048\n",
            "  (0, 200045)\t0.013447790617339637\n",
            "  (0, 198629)\t0.01396136692039911\n",
            "  (0, 205402)\t0.010275613151619638\n",
            "  (0, 228554)\t0.021062783277324127\n",
            "  (0, 234394)\t0.007803235849427029\n",
            "  (0, 199020)\t0.015692871576556258\n",
            "  (0, 228288)\t0.013232480002306013\n",
            "  (0, 192928)\t0.01793795253577288\n",
            "  (0, 30439)\t0.01606545675499904\n",
            "  (0, 210387)\t0.004144887929075795\n",
            "  (0, 203237)\t0.0021743650128085057\n",
            "  (0, 219420)\t0.3167519171849562\n",
            "  (0, 203302)\t0.002174821419456083\n",
            "  (0, 203464)\t0.007371754353821485\n",
            "  (0, 203501)\t0.007371754353821485\n",
            "  (0, 232550)\t0.007371754353821485\n",
            "  (0, 203332)\t0.014276383200209745\n",
            "  (0, 230794)\t0.0034677687834489216\n",
            "  (0, 235416)\t0.007876227921313346\n",
            "  (0, 220462)\t0.0075733181682982355\n",
            "  :\t:\n",
            "  (4772, 235219)\t0.08640260067762065\n",
            "  (4772, 204212)\t0.11010900936408988\n",
            "  (4772, 187914)\t0.08471507521906226\n",
            "  (4772, 202172)\t0.09835760378541347\n",
            "  (4772, 207487)\t0.12050664783853506\n",
            "  (4772, 202451)\t0.11979693612510053\n",
            "  (4772, 206413)\t0.1010966665730598\n",
            "  (4772, 193659)\t0.11719108150851956\n",
            "  (4772, 219258)\t0.10525182258979231\n",
            "  (4772, 201782)\t0.09274351078546987\n",
            "  (4772, 199972)\t0.15341659067808316\n",
            "  (4772, 196993)\t0.1442445068481502\n",
            "  (4772, 224102)\t0.15777121951796555\n",
            "  (4772, 181212)\t0.15777121951796555\n",
            "  (4772, 183615)\t0.16338531251790914\n",
            "  (4772, 189113)\t0.15777121951796555\n",
            "  (4772, 208763)\t0.5138937965633426\n",
            "  (4772, 169231)\t0.17129793218778086\n",
            "  (4772, 169232)\t0.17129793218778086\n",
            "  (4772, 72209)\t0.17129793218778086\n",
            "  (4772, 187229)\t0.17129793218778086\n",
            "  (4772, 72208)\t0.17129793218778086\n",
            "  (4772, 72210)\t0.17129793218778086\n",
            "  (4772, 190555)\t0.17129793218778086\n",
            "  (4772, 188599)\t0.17129793218778086\n"
          ]
        }
      ]
    },
    {
      "cell_type": "code",
      "source": [
        "similarity = cosine_similarity(feature_vectors)\n",
        "print(similarity)# taking first value and find similarity with all.and so on..........."
      ],
      "metadata": {
        "id": "tCqNIpD_gzwB",
        "colab": {
          "base_uri": "https://localhost:8080/"
        },
        "outputId": "b12a1196-eeed-4d23-c96f-6428ddbfc169"
      },
      "execution_count": 92,
      "outputs": [
        {
          "output_type": "stream",
          "name": "stdout",
          "text": [
            "[[1.         0.56565598 0.82370997 ... 0.355445   0.08681923 0.19976776]\n",
            " [0.56565598 1.         0.57175246 ... 0.32040543 0.07436713 0.17333048]\n",
            " [0.82370997 0.57175246 1.         ... 0.37303464 0.09668598 0.20362013]\n",
            " ...\n",
            " [0.355445   0.32040543 0.37303464 ... 1.         0.05170315 0.13569425]\n",
            " [0.08681923 0.07436713 0.09668598 ... 0.05170315 1.         0.0316308 ]\n",
            " [0.19976776 0.17333048 0.20362013 ... 0.13569425 0.0316308  1.        ]]\n"
          ]
        }
      ]
    },
    {
      "cell_type": "code",
      "source": [
        "print(similarity.shape)"
      ],
      "metadata": {
        "id": "RKESIvEAZhHg",
        "colab": {
          "base_uri": "https://localhost:8080/"
        },
        "outputId": "139fcef8-387f-4a6c-9a83-0cda61cd780d"
      },
      "execution_count": 93,
      "outputs": [
        {
          "output_type": "stream",
          "name": "stdout",
          "text": [
            "(4773, 4773)\n"
          ]
        }
      ]
    },
    {
      "cell_type": "code",
      "source": [
        "movie_name = input(' Enter your favourite movie name : ')"
      ],
      "metadata": {
        "id": "JfwkGAbBsFgD",
        "colab": {
          "base_uri": "https://localhost:8080/"
        },
        "outputId": "73ae5818-db03-4426-9679-3978120735c5"
      },
      "execution_count": 106,
      "outputs": [
        {
          "name": "stdout",
          "output_type": "stream",
          "text": [
            " Enter your favourite movie name : spider man\n"
          ]
        }
      ]
    },
    {
      "cell_type": "code",
      "source": [
        "list_of_all_titles =df1['title'].tolist()\n",
        "print(list_of_all_titles[:10])"
      ],
      "metadata": {
        "colab": {
          "base_uri": "https://localhost:8080/"
        },
        "id": "2ZkLJIgo0aDb",
        "outputId": "f3659ab8-4d7a-4504-bf2e-c140637fa3f2"
      },
      "execution_count": 108,
      "outputs": [
        {
          "output_type": "stream",
          "name": "stdout",
          "text": [
            "['Avatar', \"Pirates of the Caribbean: At World's End\", 'Spectre', 'The Dark Knight Rises', 'John Carter', 'Spider-Man 3', 'Tangled', 'Avengers: Age of Ultron', 'Harry Potter and the Half-Blood Prince', 'Batman v Superman: Dawn of Justice']\n"
          ]
        }
      ]
    },
    {
      "cell_type": "code",
      "source": [
        "find_close_match = difflib.get_close_matches(movie_name, list_of_all_titles)\n",
        "print(find_close_match)"
      ],
      "metadata": {
        "colab": {
          "base_uri": "https://localhost:8080/"
        },
        "id": "CZaXr6AR0lM4",
        "outputId": "bcbacf4c-9739-4ebf-c417-7298adaaf597"
      },
      "execution_count": 109,
      "outputs": [
        {
          "output_type": "stream",
          "name": "stdout",
          "text": [
            "['Spider-Man', 'Inside Man', 'Superman']\n"
          ]
        }
      ]
    },
    {
      "cell_type": "code",
      "source": [
        "close_match =find_close_match[0]\n",
        "print(close_match)"
      ],
      "metadata": {
        "colab": {
          "base_uri": "https://localhost:8080/"
        },
        "id": "pkmfnHnr0mGH",
        "outputId": "7c568ad8-1953-40bf-c94e-5dcddd6a66ee"
      },
      "execution_count": 110,
      "outputs": [
        {
          "output_type": "stream",
          "name": "stdout",
          "text": [
            "Spider-Man\n"
          ]
        }
      ]
    },
    {
      "cell_type": "code",
      "source": [
        "index_of_the_movie =index_of_the_movie = df[df.title == close_match].index[0]\n",
        "\n",
        "print(index_of_the_movie)"
      ],
      "metadata": {
        "colab": {
          "base_uri": "https://localhost:8080/"
        },
        "id": "VXZBT97p080P",
        "outputId": "744d93be-441a-4beb-ff05-8f6d64587d98"
      },
      "execution_count": 111,
      "outputs": [
        {
          "output_type": "stream",
          "name": "stdout",
          "text": [
            "159\n"
          ]
        }
      ]
    },
    {
      "cell_type": "code",
      "source": [
        "#Finding the similarity percentage only for specifi index that is the index of iron man\n",
        "similarity_score = list(enumerate(similarity[index_of_the_movie]))\n",
        "print(similarity_score[:10])"
      ],
      "metadata": {
        "colab": {
          "base_uri": "https://localhost:8080/"
        },
        "id": "EgjAAgEs1Ty8",
        "outputId": "ad5a5f2b-451a-4a3a-cdf3-902e8940cd2b"
      },
      "execution_count": 116,
      "outputs": [
        {
          "output_type": "stream",
          "name": "stdout",
          "text": [
            "[(0, np.float64(0.7733275783378876)), (1, np.float64(0.5907383281396287)), (2, np.float64(0.7818987162424045)), (3, np.float64(0.8147222409178347)), (4, np.float64(0.767752261290824)), (5, np.float64(0.6997097557284071)), (6, np.float64(0.6492350124349601)), (7, np.float64(0.7199651112552498)), (8, np.float64(0.5565479724824504)), (9, np.float64(0.765080699449834))]\n"
          ]
        }
      ]
    },
    {
      "cell_type": "code",
      "source": [
        "len(similarity_score)"
      ],
      "metadata": {
        "colab": {
          "base_uri": "https://localhost:8080/"
        },
        "id": "mKQdDT6M16L3",
        "outputId": "5440d758-e5d0-4ee4-8d71-62b9263accba"
      },
      "execution_count": 113,
      "outputs": [
        {
          "output_type": "execute_result",
          "data": {
            "text/plain": [
              "4773"
            ]
          },
          "metadata": {},
          "execution_count": 113
        }
      ]
    },
    {
      "cell_type": "code",
      "source": [
        "# sorting the movies based on their similarity score\n",
        "sorted_similar_movies = sorted(similarity_score,key=lambda x:x[1],reverse = True)\n",
        "print(sorted_similar_movies[:10])"
      ],
      "metadata": {
        "colab": {
          "base_uri": "https://localhost:8080/"
        },
        "id": "ahBrkDP55oCb",
        "outputId": "05e7c82b-9180-4a21-a8c3-acd1689693e0"
      },
      "execution_count": 117,
      "outputs": [
        {
          "output_type": "stream",
          "name": "stdout",
          "text": [
            "[(159, np.float64(1.0000000000000002)), (28, np.float64(0.8268824607218158)), (412, np.float64(0.8221901968922866)), (212, np.float64(0.8201018452489695)), (30, np.float64(0.816676732824474)), (185, np.float64(0.8155434183753851)), (365, np.float64(0.8151432454020815)), (3, np.float64(0.8147222409178347)), (186, np.float64(0.813716861747617)), (171, np.float64(0.8132532230420736))]\n"
          ]
        }
      ]
    },
    {
      "cell_type": "code",
      "source": [
        "#which show the first 30 similar movie\n",
        "print('Movies suggested for you : \\n')\n",
        "i = 1\n",
        "for movie in sorted_similar_movies:\n",
        "    #movie=(68, 1.0000000000000002)\n",
        "    #movie[0]=68\n",
        "    index = movie[0]\n",
        "    title_from_index = df.iloc[index]['title']\n",
        "    if i < 30:\n",
        "        print(i, '.', title_from_index)\n",
        "        i += 1"
      ],
      "metadata": {
        "colab": {
          "base_uri": "https://localhost:8080/"
        },
        "id": "MXibtw3T5zht",
        "outputId": "939cc755-66af-457d-a951-426f64230dd1"
      },
      "execution_count": 118,
      "outputs": [
        {
          "output_type": "stream",
          "name": "stdout",
          "text": [
            "Movies suggested for you : \n",
            "\n",
            "1 . Spider-Man\n",
            "2 . Jurassic World\n",
            "3 . The Core\n",
            "4 . The Day After Tomorrow\n",
            "5 . Spider-Man 2\n",
            "6 . War of the Worlds\n",
            "7 . Contact\n",
            "8 . The Dark Knight Rises\n",
            "9 . Bad Boys II\n",
            "10 . Master and Commander: The Far Side of the World\n",
            "11 . Cursed\n",
            "12 . Men in Black II\n",
            "13 . Catwoman\n",
            "14 . The Wolf of Wall Street\n",
            "15 . Minority Report\n",
            "16 . Hulk\n",
            "17 . Blade: Trinity\n",
            "18 . Tears of the Sun\n",
            "19 . Terminator 3: Rise of the Machines\n",
            "20 . The League of Extraordinary Gentlemen\n",
            "21 . Alexander\n",
            "22 . Freddy vs. Jason\n",
            "23 . Big Fish\n",
            "24 . The Aviator\n",
            "25 . End of Days\n",
            "26 . Blade II\n",
            "27 . xXx\n",
            "28 . Blade\n",
            "29 . A.I. Artificial Intelligence\n"
          ]
        }
      ]
    },
    {
      "cell_type": "code",
      "source": [],
      "metadata": {
        "id": "0HD4EXvg_H5I"
      },
      "execution_count": 115,
      "outputs": []
    }
  ]
}